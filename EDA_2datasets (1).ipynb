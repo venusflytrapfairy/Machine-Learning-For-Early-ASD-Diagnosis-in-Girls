{
 "cells": [
  {
   "cell_type": "code",
   "execution_count": 1,
   "metadata": {},
   "outputs": [],
   "source": [
    "# !pip install sweetviz"
   ]
  },
  {
   "cell_type": "markdown",
   "metadata": {},
   "source": [
    "## EDA"
   ]
  },
  {
   "cell_type": "markdown",
   "metadata": {},
   "source": [
    "### EDA on \"Sex_diffs_20210412_trimmed_send.csv\""
   ]
  },
  {
   "cell_type": "code",
   "execution_count": 2,
   "metadata": {},
   "outputs": [],
   "source": [
    "import pandas as pd\n",
    "\n",
    "# Actual file path\n",
    "file_path = 'sav_to_csv\\Sex_diffs_20210412_trimmed_send.csv'\n",
    "\n",
    "# Read the CSV file into a DataFrame\n",
    "Sex_diffs_20210412_trimmed_send = pd.read_csv(file_path)"
   ]
  },
  {
   "cell_type": "code",
   "execution_count": 10,
   "metadata": {},
   "outputs": [
    {
     "data": {
      "application/vnd.jupyter.widget-view+json": {
       "model_id": "017419bc3af84c3f9b81da26d58ed816",
       "version_major": 2,
       "version_minor": 0
      },
      "text/plain": [
       "                                             |          | [  0%]   00:00 -> (? left)"
      ]
     },
     "metadata": {},
     "output_type": "display_data"
    },
    {
     "name": "stdout",
     "output_type": "stream",
     "text": [
      "Report report_Sex_diffs_20210412_trimmed_send.html was generated! NOTEBOOK/COLAB USERS: the web browser MAY not pop up, regardless, the report IS saved in your notebook/colab files.\n"
     ]
    }
   ],
   "source": [
    "import sweetviz as sv\n",
    "\n",
    "# EDA report\n",
    "report_Sex_diffs_20210412_trimmed_send = sv.analyze(Sex_diffs_20210412_trimmed_send, pairwise_analysis='off')\n",
    "report_Sex_diffs_20210412_trimmed_send.show_html(\"report_Sex_diffs_20210412_trimmed_send.html\")"
   ]
  },
  {
   "cell_type": "code",
   "execution_count": 11,
   "metadata": {},
   "outputs": [],
   "source": [
    "# report_Sex_diffs_20210412_trimmed_send_report.show_notebook(w=None, \n",
    "#                 h=None, \n",
    "#                 scale=None,\n",
    "#                 layout='widescreen',\n",
    "#                 filepath=None)"
   ]
  },
  {
   "cell_type": "markdown",
   "metadata": {},
   "source": [
    "### EDA on CLEANED \"Sex_diffs_20210412_trimmed_send.csv\""
   ]
  },
  {
   "cell_type": "code",
   "execution_count": 12,
   "metadata": {},
   "outputs": [],
   "source": [
    "clean_target_features = [\"V24_Group\", \"V24_ASD_dummy\", \"ASD_DX_ever_Dummy\"]\n",
    "\n",
    "# Remove rows with missing values in those features\n",
    "Sex_diffs_20210412_trimmed_send_clean = Sex_diffs_20210412_trimmed_send.dropna(subset=clean_target_features)"
   ]
  },
  {
   "cell_type": "code",
   "execution_count": 13,
   "metadata": {},
   "outputs": [
    {
     "data": {
      "application/vnd.jupyter.widget-view+json": {
       "model_id": "ea39dab470cc4b09877fa478428d9e86",
       "version_major": 2,
       "version_minor": 0
      },
      "text/plain": [
       "                                             |          | [  0%]   00:00 -> (? left)"
      ]
     },
     "metadata": {},
     "output_type": "display_data"
    },
    {
     "name": "stdout",
     "output_type": "stream",
     "text": [
      "Report report_Sex_diffs_20210412_trimmed_send_clean.html was generated! NOTEBOOK/COLAB USERS: the web browser MAY not pop up, regardless, the report IS saved in your notebook/colab files.\n"
     ]
    }
   ],
   "source": [
    "import sweetviz as sv\n",
    "\n",
    "# EDA report\n",
    "report_Sex_diffs_20210412_trimmed_send_clean = sv.analyze(Sex_diffs_20210412_trimmed_send_clean, pairwise_analysis='off')\n",
    "report_Sex_diffs_20210412_trimmed_send_clean.show_html(\"report_Sex_diffs_20210412_trimmed_send_clean.html\")"
   ]
  },
  {
   "cell_type": "code",
   "execution_count": 14,
   "metadata": {},
   "outputs": [],
   "source": [
    "# report_Sex_diffs_20210412_trimmed_send_clean.show_notebook(w=None, \n",
    "#                 h=None, \n",
    "#                 scale=None,\n",
    "#                 layout='widescreen',\n",
    "#                 filepath=None)"
   ]
  },
  {
   "cell_type": "markdown",
   "metadata": {},
   "source": [
    "### EDA on \"IBIS_Sexdiffs_data_5_19_forKevin.csv\""
   ]
  },
  {
   "cell_type": "code",
   "execution_count": 1,
   "metadata": {},
   "outputs": [],
   "source": [
    "import pandas as pd\n",
    "\n",
    "# Actual file path\n",
    "file_path_ = 'sav_to_csv\\IBIS_Sexdiffs_data_5_19_forKevin.csv'\n",
    "\n",
    "# Read the CSV file into a DataFrame\n",
    "IBIS_Sexdiffs_data_5_19_forKevin = pd.read_csv(file_path_)"
   ]
  },
  {
   "cell_type": "code",
   "execution_count": 16,
   "metadata": {},
   "outputs": [
    {
     "data": {
      "application/vnd.jupyter.widget-view+json": {
       "model_id": "f021682feb41417b8fe767d583240275",
       "version_major": 2,
       "version_minor": 0
      },
      "text/plain": [
       "                                             |          | [  0%]   00:00 -> (? left)"
      ]
     },
     "metadata": {},
     "output_type": "display_data"
    },
    {
     "name": "stdout",
     "output_type": "stream",
     "text": [
      "Report report_IBIS_Sexdiffs_data_5_19_forKevin.html was generated! NOTEBOOK/COLAB USERS: the web browser MAY not pop up, regardless, the report IS saved in your notebook/colab files.\n"
     ]
    }
   ],
   "source": [
    "import sweetviz as sv\n",
    "\n",
    "# EDA report\n",
    "report_IBIS_Sexdiffs_data_5_19_forKevin = sv.analyze(IBIS_Sexdiffs_data_5_19_forKevin, pairwise_analysis='off')\n",
    "report_IBIS_Sexdiffs_data_5_19_forKevin.show_html(\"report_IBIS_Sexdiffs_data_5_19_forKevin.html\")"
   ]
  },
  {
   "cell_type": "code",
   "execution_count": 2,
   "metadata": {},
   "outputs": [
    {
     "data": {
      "application/vnd.jupyter.widget-view+json": {
       "model_id": "6974ab9fb5ff463ea10bb7a2262247fb",
       "version_major": 2,
       "version_minor": 0
      },
      "text/plain": [
       "                                             |          | [  0%]   00:00 -> (? left)"
      ]
     },
     "metadata": {},
     "output_type": "display_data"
    },
    {
     "name": "stderr",
     "output_type": "stream",
     "text": [
      "c:\\Users\\elena\\AppData\\Local\\Programs\\Python\\Python311\\Lib\\site-packages\\sweetviz\\graph_associations.py:219: PerformanceWarning: DataFrame is highly fragmented.  This is usually the result of calling `frame.insert` many times, which has poor performance.  Consider joining all columns at once using pd.concat(axis=1) instead. To get a de-fragmented frame, use `newframe = frame.copy()`\n",
      "  new_dataframe[feature] = pd.Series(dtype=float)\n",
      "c:\\Users\\elena\\AppData\\Local\\Programs\\Python\\Python311\\Lib\\site-packages\\sweetviz\\graph_associations.py:219: PerformanceWarning: DataFrame is highly fragmented.  This is usually the result of calling `frame.insert` many times, which has poor performance.  Consider joining all columns at once using pd.concat(axis=1) instead. To get a de-fragmented frame, use `newframe = frame.copy()`\n",
      "  new_dataframe[feature] = pd.Series(dtype=float)\n",
      "c:\\Users\\elena\\AppData\\Local\\Programs\\Python\\Python311\\Lib\\site-packages\\sweetviz\\graph_associations.py:219: PerformanceWarning: DataFrame is highly fragmented.  This is usually the result of calling `frame.insert` many times, which has poor performance.  Consider joining all columns at once using pd.concat(axis=1) instead. To get a de-fragmented frame, use `newframe = frame.copy()`\n",
      "  new_dataframe[feature] = pd.Series(dtype=float)\n",
      "c:\\Users\\elena\\AppData\\Local\\Programs\\Python\\Python311\\Lib\\site-packages\\sweetviz\\graph_associations.py:219: PerformanceWarning: DataFrame is highly fragmented.  This is usually the result of calling `frame.insert` many times, which has poor performance.  Consider joining all columns at once using pd.concat(axis=1) instead. To get a de-fragmented frame, use `newframe = frame.copy()`\n",
      "  new_dataframe[feature] = pd.Series(dtype=float)\n",
      "c:\\Users\\elena\\AppData\\Local\\Programs\\Python\\Python311\\Lib\\site-packages\\sweetviz\\graph_associations.py:219: PerformanceWarning: DataFrame is highly fragmented.  This is usually the result of calling `frame.insert` many times, which has poor performance.  Consider joining all columns at once using pd.concat(axis=1) instead. To get a de-fragmented frame, use `newframe = frame.copy()`\n",
      "  new_dataframe[feature] = pd.Series(dtype=float)\n",
      "c:\\Users\\elena\\AppData\\Local\\Programs\\Python\\Python311\\Lib\\site-packages\\sweetviz\\graph_associations.py:219: PerformanceWarning: DataFrame is highly fragmented.  This is usually the result of calling `frame.insert` many times, which has poor performance.  Consider joining all columns at once using pd.concat(axis=1) instead. To get a de-fragmented frame, use `newframe = frame.copy()`\n",
      "  new_dataframe[feature] = pd.Series(dtype=float)\n",
      "c:\\Users\\elena\\AppData\\Local\\Programs\\Python\\Python311\\Lib\\site-packages\\sweetviz\\graph_associations.py:219: PerformanceWarning: DataFrame is highly fragmented.  This is usually the result of calling `frame.insert` many times, which has poor performance.  Consider joining all columns at once using pd.concat(axis=1) instead. To get a de-fragmented frame, use `newframe = frame.copy()`\n",
      "  new_dataframe[feature] = pd.Series(dtype=float)\n",
      "c:\\Users\\elena\\AppData\\Local\\Programs\\Python\\Python311\\Lib\\site-packages\\sweetviz\\graph_associations.py:219: PerformanceWarning: DataFrame is highly fragmented.  This is usually the result of calling `frame.insert` many times, which has poor performance.  Consider joining all columns at once using pd.concat(axis=1) instead. To get a de-fragmented frame, use `newframe = frame.copy()`\n",
      "  new_dataframe[feature] = pd.Series(dtype=float)\n",
      "c:\\Users\\elena\\AppData\\Local\\Programs\\Python\\Python311\\Lib\\site-packages\\sweetviz\\graph_associations.py:219: PerformanceWarning: DataFrame is highly fragmented.  This is usually the result of calling `frame.insert` many times, which has poor performance.  Consider joining all columns at once using pd.concat(axis=1) instead. To get a de-fragmented frame, use `newframe = frame.copy()`\n",
      "  new_dataframe[feature] = pd.Series(dtype=float)\n",
      "c:\\Users\\elena\\AppData\\Local\\Programs\\Python\\Python311\\Lib\\site-packages\\sweetviz\\graph_associations.py:219: PerformanceWarning: DataFrame is highly fragmented.  This is usually the result of calling `frame.insert` many times, which has poor performance.  Consider joining all columns at once using pd.concat(axis=1) instead. To get a de-fragmented frame, use `newframe = frame.copy()`\n",
      "  new_dataframe[feature] = pd.Series(dtype=float)\n",
      "c:\\Users\\elena\\AppData\\Local\\Programs\\Python\\Python311\\Lib\\site-packages\\sweetviz\\graph_associations.py:219: PerformanceWarning: DataFrame is highly fragmented.  This is usually the result of calling `frame.insert` many times, which has poor performance.  Consider joining all columns at once using pd.concat(axis=1) instead. To get a de-fragmented frame, use `newframe = frame.copy()`\n",
      "  new_dataframe[feature] = pd.Series(dtype=float)\n",
      "c:\\Users\\elena\\AppData\\Local\\Programs\\Python\\Python311\\Lib\\site-packages\\sweetviz\\graph_associations.py:219: PerformanceWarning: DataFrame is highly fragmented.  This is usually the result of calling `frame.insert` many times, which has poor performance.  Consider joining all columns at once using pd.concat(axis=1) instead. To get a de-fragmented frame, use `newframe = frame.copy()`\n",
      "  new_dataframe[feature] = pd.Series(dtype=float)\n",
      "c:\\Users\\elena\\AppData\\Local\\Programs\\Python\\Python311\\Lib\\site-packages\\sweetviz\\graph_associations.py:219: PerformanceWarning: DataFrame is highly fragmented.  This is usually the result of calling `frame.insert` many times, which has poor performance.  Consider joining all columns at once using pd.concat(axis=1) instead. To get a de-fragmented frame, use `newframe = frame.copy()`\n",
      "  new_dataframe[feature] = pd.Series(dtype=float)\n",
      "c:\\Users\\elena\\AppData\\Local\\Programs\\Python\\Python311\\Lib\\site-packages\\sweetviz\\graph_associations.py:219: PerformanceWarning: DataFrame is highly fragmented.  This is usually the result of calling `frame.insert` many times, which has poor performance.  Consider joining all columns at once using pd.concat(axis=1) instead. To get a de-fragmented frame, use `newframe = frame.copy()`\n",
      "  new_dataframe[feature] = pd.Series(dtype=float)\n",
      "c:\\Users\\elena\\AppData\\Local\\Programs\\Python\\Python311\\Lib\\site-packages\\sweetviz\\graph_associations.py:219: PerformanceWarning: DataFrame is highly fragmented.  This is usually the result of calling `frame.insert` many times, which has poor performance.  Consider joining all columns at once using pd.concat(axis=1) instead. To get a de-fragmented frame, use `newframe = frame.copy()`\n",
      "  new_dataframe[feature] = pd.Series(dtype=float)\n",
      "c:\\Users\\elena\\AppData\\Local\\Programs\\Python\\Python311\\Lib\\site-packages\\sweetviz\\graph_associations.py:219: PerformanceWarning: DataFrame is highly fragmented.  This is usually the result of calling `frame.insert` many times, which has poor performance.  Consider joining all columns at once using pd.concat(axis=1) instead. To get a de-fragmented frame, use `newframe = frame.copy()`\n",
      "  new_dataframe[feature] = pd.Series(dtype=float)\n",
      "c:\\Users\\elena\\AppData\\Local\\Programs\\Python\\Python311\\Lib\\site-packages\\sweetviz\\graph_associations.py:219: PerformanceWarning: DataFrame is highly fragmented.  This is usually the result of calling `frame.insert` many times, which has poor performance.  Consider joining all columns at once using pd.concat(axis=1) instead. To get a de-fragmented frame, use `newframe = frame.copy()`\n",
      "  new_dataframe[feature] = pd.Series(dtype=float)\n",
      "c:\\Users\\elena\\AppData\\Local\\Programs\\Python\\Python311\\Lib\\site-packages\\sweetviz\\graph_associations.py:219: PerformanceWarning: DataFrame is highly fragmented.  This is usually the result of calling `frame.insert` many times, which has poor performance.  Consider joining all columns at once using pd.concat(axis=1) instead. To get a de-fragmented frame, use `newframe = frame.copy()`\n",
      "  new_dataframe[feature] = pd.Series(dtype=float)\n",
      "c:\\Users\\elena\\AppData\\Local\\Programs\\Python\\Python311\\Lib\\site-packages\\sweetviz\\graph_associations.py:219: PerformanceWarning: DataFrame is highly fragmented.  This is usually the result of calling `frame.insert` many times, which has poor performance.  Consider joining all columns at once using pd.concat(axis=1) instead. To get a de-fragmented frame, use `newframe = frame.copy()`\n",
      "  new_dataframe[feature] = pd.Series(dtype=float)\n",
      "c:\\Users\\elena\\AppData\\Local\\Programs\\Python\\Python311\\Lib\\site-packages\\sweetviz\\graph_associations.py:219: PerformanceWarning: DataFrame is highly fragmented.  This is usually the result of calling `frame.insert` many times, which has poor performance.  Consider joining all columns at once using pd.concat(axis=1) instead. To get a de-fragmented frame, use `newframe = frame.copy()`\n",
      "  new_dataframe[feature] = pd.Series(dtype=float)\n",
      "c:\\Users\\elena\\AppData\\Local\\Programs\\Python\\Python311\\Lib\\site-packages\\sweetviz\\graph_associations.py:219: PerformanceWarning: DataFrame is highly fragmented.  This is usually the result of calling `frame.insert` many times, which has poor performance.  Consider joining all columns at once using pd.concat(axis=1) instead. To get a de-fragmented frame, use `newframe = frame.copy()`\n",
      "  new_dataframe[feature] = pd.Series(dtype=float)\n",
      "c:\\Users\\elena\\AppData\\Local\\Programs\\Python\\Python311\\Lib\\site-packages\\sweetviz\\graph_associations.py:219: PerformanceWarning: DataFrame is highly fragmented.  This is usually the result of calling `frame.insert` many times, which has poor performance.  Consider joining all columns at once using pd.concat(axis=1) instead. To get a de-fragmented frame, use `newframe = frame.copy()`\n",
      "  new_dataframe[feature] = pd.Series(dtype=float)\n",
      "c:\\Users\\elena\\AppData\\Local\\Programs\\Python\\Python311\\Lib\\site-packages\\sweetviz\\graph_associations.py:219: PerformanceWarning: DataFrame is highly fragmented.  This is usually the result of calling `frame.insert` many times, which has poor performance.  Consider joining all columns at once using pd.concat(axis=1) instead. To get a de-fragmented frame, use `newframe = frame.copy()`\n",
      "  new_dataframe[feature] = pd.Series(dtype=float)\n",
      "c:\\Users\\elena\\AppData\\Local\\Programs\\Python\\Python311\\Lib\\site-packages\\sweetviz\\graph_associations.py:219: PerformanceWarning: DataFrame is highly fragmented.  This is usually the result of calling `frame.insert` many times, which has poor performance.  Consider joining all columns at once using pd.concat(axis=1) instead. To get a de-fragmented frame, use `newframe = frame.copy()`\n",
      "  new_dataframe[feature] = pd.Series(dtype=float)\n",
      "c:\\Users\\elena\\AppData\\Local\\Programs\\Python\\Python311\\Lib\\site-packages\\sweetviz\\graph_associations.py:219: PerformanceWarning: DataFrame is highly fragmented.  This is usually the result of calling `frame.insert` many times, which has poor performance.  Consider joining all columns at once using pd.concat(axis=1) instead. To get a de-fragmented frame, use `newframe = frame.copy()`\n",
      "  new_dataframe[feature] = pd.Series(dtype=float)\n",
      "c:\\Users\\elena\\AppData\\Local\\Programs\\Python\\Python311\\Lib\\site-packages\\sweetviz\\graph_associations.py:219: PerformanceWarning: DataFrame is highly fragmented.  This is usually the result of calling `frame.insert` many times, which has poor performance.  Consider joining all columns at once using pd.concat(axis=1) instead. To get a de-fragmented frame, use `newframe = frame.copy()`\n",
      "  new_dataframe[feature] = pd.Series(dtype=float)\n",
      "c:\\Users\\elena\\AppData\\Local\\Programs\\Python\\Python311\\Lib\\site-packages\\sweetviz\\graph_associations.py:219: PerformanceWarning: DataFrame is highly fragmented.  This is usually the result of calling `frame.insert` many times, which has poor performance.  Consider joining all columns at once using pd.concat(axis=1) instead. To get a de-fragmented frame, use `newframe = frame.copy()`\n",
      "  new_dataframe[feature] = pd.Series(dtype=float)\n",
      "c:\\Users\\elena\\AppData\\Local\\Programs\\Python\\Python311\\Lib\\site-packages\\sweetviz\\graph_associations.py:219: PerformanceWarning: DataFrame is highly fragmented.  This is usually the result of calling `frame.insert` many times, which has poor performance.  Consider joining all columns at once using pd.concat(axis=1) instead. To get a de-fragmented frame, use `newframe = frame.copy()`\n",
      "  new_dataframe[feature] = pd.Series(dtype=float)\n",
      "c:\\Users\\elena\\AppData\\Local\\Programs\\Python\\Python311\\Lib\\site-packages\\sweetviz\\graph_associations.py:219: PerformanceWarning: DataFrame is highly fragmented.  This is usually the result of calling `frame.insert` many times, which has poor performance.  Consider joining all columns at once using pd.concat(axis=1) instead. To get a de-fragmented frame, use `newframe = frame.copy()`\n",
      "  new_dataframe[feature] = pd.Series(dtype=float)\n",
      "c:\\Users\\elena\\AppData\\Local\\Programs\\Python\\Python311\\Lib\\site-packages\\sweetviz\\graph_associations.py:219: PerformanceWarning: DataFrame is highly fragmented.  This is usually the result of calling `frame.insert` many times, which has poor performance.  Consider joining all columns at once using pd.concat(axis=1) instead. To get a de-fragmented frame, use `newframe = frame.copy()`\n",
      "  new_dataframe[feature] = pd.Series(dtype=float)\n",
      "c:\\Users\\elena\\AppData\\Local\\Programs\\Python\\Python311\\Lib\\site-packages\\sweetviz\\graph_associations.py:219: PerformanceWarning: DataFrame is highly fragmented.  This is usually the result of calling `frame.insert` many times, which has poor performance.  Consider joining all columns at once using pd.concat(axis=1) instead. To get a de-fragmented frame, use `newframe = frame.copy()`\n",
      "  new_dataframe[feature] = pd.Series(dtype=float)\n",
      "c:\\Users\\elena\\AppData\\Local\\Programs\\Python\\Python311\\Lib\\site-packages\\sweetviz\\graph_associations.py:219: PerformanceWarning: DataFrame is highly fragmented.  This is usually the result of calling `frame.insert` many times, which has poor performance.  Consider joining all columns at once using pd.concat(axis=1) instead. To get a de-fragmented frame, use `newframe = frame.copy()`\n",
      "  new_dataframe[feature] = pd.Series(dtype=float)\n",
      "c:\\Users\\elena\\AppData\\Local\\Programs\\Python\\Python311\\Lib\\site-packages\\sweetviz\\graph_associations.py:219: PerformanceWarning: DataFrame is highly fragmented.  This is usually the result of calling `frame.insert` many times, which has poor performance.  Consider joining all columns at once using pd.concat(axis=1) instead. To get a de-fragmented frame, use `newframe = frame.copy()`\n",
      "  new_dataframe[feature] = pd.Series(dtype=float)\n",
      "c:\\Users\\elena\\AppData\\Local\\Programs\\Python\\Python311\\Lib\\site-packages\\sweetviz\\graph_associations.py:219: PerformanceWarning: DataFrame is highly fragmented.  This is usually the result of calling `frame.insert` many times, which has poor performance.  Consider joining all columns at once using pd.concat(axis=1) instead. To get a de-fragmented frame, use `newframe = frame.copy()`\n",
      "  new_dataframe[feature] = pd.Series(dtype=float)\n",
      "c:\\Users\\elena\\AppData\\Local\\Programs\\Python\\Python311\\Lib\\site-packages\\sweetviz\\graph_associations.py:219: PerformanceWarning: DataFrame is highly fragmented.  This is usually the result of calling `frame.insert` many times, which has poor performance.  Consider joining all columns at once using pd.concat(axis=1) instead. To get a de-fragmented frame, use `newframe = frame.copy()`\n",
      "  new_dataframe[feature] = pd.Series(dtype=float)\n",
      "c:\\Users\\elena\\AppData\\Local\\Programs\\Python\\Python311\\Lib\\site-packages\\sweetviz\\graph_associations.py:219: PerformanceWarning: DataFrame is highly fragmented.  This is usually the result of calling `frame.insert` many times, which has poor performance.  Consider joining all columns at once using pd.concat(axis=1) instead. To get a de-fragmented frame, use `newframe = frame.copy()`\n",
      "  new_dataframe[feature] = pd.Series(dtype=float)\n",
      "c:\\Users\\elena\\AppData\\Local\\Programs\\Python\\Python311\\Lib\\site-packages\\sweetviz\\graph_associations.py:219: PerformanceWarning: DataFrame is highly fragmented.  This is usually the result of calling `frame.insert` many times, which has poor performance.  Consider joining all columns at once using pd.concat(axis=1) instead. To get a de-fragmented frame, use `newframe = frame.copy()`\n",
      "  new_dataframe[feature] = pd.Series(dtype=float)\n",
      "c:\\Users\\elena\\AppData\\Local\\Programs\\Python\\Python311\\Lib\\site-packages\\sweetviz\\graph_associations.py:219: PerformanceWarning: DataFrame is highly fragmented.  This is usually the result of calling `frame.insert` many times, which has poor performance.  Consider joining all columns at once using pd.concat(axis=1) instead. To get a de-fragmented frame, use `newframe = frame.copy()`\n",
      "  new_dataframe[feature] = pd.Series(dtype=float)\n",
      "c:\\Users\\elena\\AppData\\Local\\Programs\\Python\\Python311\\Lib\\site-packages\\sweetviz\\graph_associations.py:219: PerformanceWarning: DataFrame is highly fragmented.  This is usually the result of calling `frame.insert` many times, which has poor performance.  Consider joining all columns at once using pd.concat(axis=1) instead. To get a de-fragmented frame, use `newframe = frame.copy()`\n",
      "  new_dataframe[feature] = pd.Series(dtype=float)\n",
      "c:\\Users\\elena\\AppData\\Local\\Programs\\Python\\Python311\\Lib\\site-packages\\sweetviz\\graph_associations.py:219: PerformanceWarning: DataFrame is highly fragmented.  This is usually the result of calling `frame.insert` many times, which has poor performance.  Consider joining all columns at once using pd.concat(axis=1) instead. To get a de-fragmented frame, use `newframe = frame.copy()`\n",
      "  new_dataframe[feature] = pd.Series(dtype=float)\n",
      "c:\\Users\\elena\\AppData\\Local\\Programs\\Python\\Python311\\Lib\\site-packages\\sweetviz\\graph_associations.py:219: PerformanceWarning: DataFrame is highly fragmented.  This is usually the result of calling `frame.insert` many times, which has poor performance.  Consider joining all columns at once using pd.concat(axis=1) instead. To get a de-fragmented frame, use `newframe = frame.copy()`\n",
      "  new_dataframe[feature] = pd.Series(dtype=float)\n",
      "c:\\Users\\elena\\AppData\\Local\\Programs\\Python\\Python311\\Lib\\site-packages\\sweetviz\\graph_associations.py:219: PerformanceWarning: DataFrame is highly fragmented.  This is usually the result of calling `frame.insert` many times, which has poor performance.  Consider joining all columns at once using pd.concat(axis=1) instead. To get a de-fragmented frame, use `newframe = frame.copy()`\n",
      "  new_dataframe[feature] = pd.Series(dtype=float)\n"
     ]
    },
    {
     "name": "stdout",
     "output_type": "stream",
     "text": [
      "Report report_ON_IBIS_Sexdiffs_data_5_19_forKevin.html was generated! NOTEBOOK/COLAB USERS: the web browser MAY not pop up, regardless, the report IS saved in your notebook/colab files.\n"
     ]
    }
   ],
   "source": [
    "import sweetviz as sv\n",
    "\n",
    "# EDA report\n",
    "report_ON_IBIS_Sexdiffs_data_5_19_forKevin = sv.analyze(IBIS_Sexdiffs_data_5_19_forKevin, pairwise_analysis='on')\n",
    "report_ON_IBIS_Sexdiffs_data_5_19_forKevin.show_html(\"report_ON_IBIS_Sexdiffs_data_5_19_forKevin.html\")"
   ]
  }
 ],
 "metadata": {
  "kernelspec": {
   "display_name": "Python 3",
   "language": "python",
   "name": "python3"
  },
  "language_info": {
   "codemirror_mode": {
    "name": "ipython",
    "version": 3
   },
   "file_extension": ".py",
   "mimetype": "text/x-python",
   "name": "python",
   "nbconvert_exporter": "python",
   "pygments_lexer": "ipython3",
   "version": "3.11.4"
  }
 },
 "nbformat": 4,
 "nbformat_minor": 2
}
